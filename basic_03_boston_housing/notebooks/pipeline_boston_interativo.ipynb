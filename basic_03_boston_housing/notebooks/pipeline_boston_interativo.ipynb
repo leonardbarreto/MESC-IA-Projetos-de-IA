{
 "cells": [
  {
   "cell_type": "code",
   "execution_count": null,
   "id": "0694ad50",
   "metadata": {},
   "outputs": [
    {
     "data": {
      "application/vnd.jupyter.widget-view+json": {
       "model_id": "ceb056e09ec14db89384af8dcd95f2e2",
       "version_major": 2,
       "version_minor": 0
      },
      "text/plain": [
       "Dropdown(description='Modelo:', options=('random_forest', 'linear_regression', 'svr', 'knn'), value='random_fo…"
      ]
     },
     "metadata": {},
     "output_type": "display_data"
    },
    {
     "data": {
      "application/vnd.jupyter.widget-view+json": {
       "model_id": "539cc9013e2a47dba4715897db13f4d4",
       "version_major": 2,
       "version_minor": 0
      },
      "text/plain": [
       "Button(button_style='success', description='Rodar pipeline', style=ButtonStyle())"
      ]
     },
     "metadata": {},
     "output_type": "display_data"
    },
    {
     "data": {
      "application/vnd.jupyter.widget-view+json": {
       "model_id": "f2931aa425484a68b1fff8553366452f",
       "version_major": 2,
       "version_minor": 0
      },
      "text/plain": [
       "Output()"
      ]
     },
     "metadata": {},
     "output_type": "display_data"
    }
   ],
   "source": [
    "# notebook: pipeline_boston.ipynb\n",
    "# ==========================================================\n",
    "# 🚀 Pipeline interativo do Boston Housing\n",
    "# ==========================================================\n",
    "\n",
    "from pathlib import Path\n",
    "import ipywidgets as widgets\n",
    "from IPython.display import display, clear_output\n",
    "\n",
    "import pandas as pd\n",
    "\n",
    "# Importar módulos customizados\n",
    "from boston_housing.config import PROCESSED_DATA_DIR, FIGURES_DIR, MODELS_DIR\n",
    "from boston_housing.features import main as features_main\n",
    "from boston_housing.modeling import train as train_module\n",
    "from boston_housing.plots import plot_predictions, plot_residuals\n",
    "\n",
    "# ==========================================================\n",
    "# Widgets para seleção de modelo\n",
    "# ==========================================================\n",
    "model_selector = widgets.Dropdown(\n",
    "    options=['random_forest', 'linear_regression', 'svr', 'knn'],\n",
    "    value='random_forest',\n",
    "    description='Modelo:',\n",
    ")\n",
    "\n",
    "run_button = widgets.Button(\n",
    "    description=\"Rodar pipeline\",\n",
    "    button_style='success'\n",
    ")\n",
    "\n",
    "output = widgets.Output()\n",
    "\n",
    "display(model_selector, run_button, output)\n",
    "\n",
    "# ==========================================================\n",
    "# Função que executa o pipeline\n",
    "# ==========================================================\n",
    "def run_pipeline(model_type: str):\n",
    "    with output:\n",
    "        output.clear_output()\n",
    "        print(f\"🚀 Pipeline iniciado com modelo: {model_type}\")\n",
    "\n",
    "        # --- 1️⃣ Gerar features e labels ---\n",
    "        features_path, labels_path = features_main(PROCESSED_DATA_DIR / \"boston.csv\")\n",
    "        print(f\"✅ Features e labels gerados em: {PROCESSED_DATA_DIR}\")\n",
    "\n",
    "        # --- 2️⃣ Treinar modelo ---\n",
    "        print(\"🏋️ Treinando modelo...\")\n",
    "        model_path = train_module.main(\n",
    "            features_path=features_path,\n",
    "            labels_path=labels_path,\n",
    "            overwrite=True,\n",
    "            experiment_name=\"boston_housing_experiment\",\n",
    "            model_type=model_type\n",
    "        )\n",
    "        print(f\"💾 Modelo salvo em: {model_path}\")\n",
    "\n",
    "        # --- 3️⃣ Fazer predições e gerar plots ---\n",
    "        X = pd.read_csv(features_path)\n",
    "        y = pd.read_csv(labels_path).squeeze()\n",
    "\n",
    "        from joblib import load\n",
    "        model = load(model_path)\n",
    "        y_pred = pd.Series(model.predict(X), index=y.index)\n",
    "\n",
    "        # Plots\n",
    "        pred_plot_path = FIGURES_DIR / f\"pred_vs_real_{model_type}.png\"\n",
    "        resid_plot_path = FIGURES_DIR / f\"residuals_{model_type}.png\"\n",
    "\n",
    "        plot_predictions(y, y_pred, pred_plot_path)\n",
    "        plot_residuals(y, y_pred, resid_plot_path)\n",
    "\n",
    "        print(f\"📊 Plots salvos em: {FIGURES_DIR}\")\n",
    "        print(\"✅ Pipeline concluído!\")\n",
    "\n",
    "# ==========================================================\n",
    "# Conectar botão ao pipeline\n",
    "# ==========================================================\n",
    "run_button.on_click(lambda b: run_pipeline(model_selector.value))\n"
   ]
  }
 ],
 "metadata": {
  "kernelspec": {
   "display_name": "py3-11-13",
   "language": "python",
   "name": "python3"
  },
  "language_info": {
   "codemirror_mode": {
    "name": "ipython",
    "version": 3
   },
   "file_extension": ".py",
   "mimetype": "text/x-python",
   "name": "python",
   "nbconvert_exporter": "python",
   "pygments_lexer": "ipython3",
   "version": "3.11.13"
  }
 },
 "nbformat": 4,
 "nbformat_minor": 5
}
