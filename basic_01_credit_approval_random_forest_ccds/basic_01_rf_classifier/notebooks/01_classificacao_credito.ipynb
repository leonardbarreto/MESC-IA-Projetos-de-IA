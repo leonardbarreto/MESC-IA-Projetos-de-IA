{
 "cells": [
  {
   "cell_type": "markdown",
   "metadata": {},
   "source": [
    "# Classificação de Aprovação de Crédito\n",
    "Este notebook implementa um pipeline simples de classificação supervisionada, como proposto por Han et al. (2012) e Géron (2019)."
   ]
  },
  {
   "cell_type": "code",
   "execution_count": 8,
   "metadata": {},
   "outputs": [],
   "source": [
    "# %% [markdown]\n",
    "# # 1️⃣ Configurações iniciais\n",
    "\n",
    "from pathlib import Path\n",
    "import pandas as pd\n",
    "from rf_classifier.dataset import main as download_dataset_main\n",
    "from rf_classifier.features import main as preprocess_features_main\n",
    "from rf_classifier.config import RAW_DATA_DIR, PROCESSED_DATA_DIR\n",
    "\n",
    "# Paths\n",
    "RAW_DATA_DIR.mkdir(parents=True, exist_ok=True)\n",
    "PROCESSED_DATA_DIR.mkdir(parents=True, exist_ok=True)\n",
    "\n",
    "dataset_path = PROCESSED_DATA_DIR / \"dataset.csv\"\n",
    "features_path = PROCESSED_DATA_DIR / \"features.csv\"\n"
   ]
  },
  {
   "cell_type": "code",
   "execution_count": 9,
   "id": "eecaebff",
   "metadata": {},
   "outputs": [
    {
     "name": "stdout",
     "output_type": "stream",
     "text": [
      "\u001b[32m2025-10-06 21:22:16.292\u001b[0m | \u001b[1mINFO    \u001b[0m | \u001b[36mrf_classifier.dataset\u001b[0m:\u001b[36mdownload_dataset\u001b[0m:\u001b[36m16\u001b[0m - \u001b[1mBaixando dataset de https://archive.ics.uci.edu/ml/machine-learning-databases/credit-screening/crx.data ...\u001b[0m\n",
      "\u001b[32m2025-10-06 21:22:16.968\u001b[0m | \u001b[1mINFO    \u001b[0m | \u001b[36mrf_classifier.dataset\u001b[0m:\u001b[36mdownload_dataset\u001b[0m:\u001b[36m20\u001b[0m - \u001b[1mDataset baixado com shape (689, 16)\u001b[0m\n"
     ]
    },
    {
     "name": "stderr",
     "output_type": "stream",
     "text": [
      "Processing dataset: 100%|██████████| 689/689 [00:00<?, ?it/s]"
     ]
    },
    {
     "name": "stdout",
     "output_type": "stream",
     "text": [
      "\u001b[32m2025-10-06 21:22:16.968\u001b[0m | \u001b[1mINFO    \u001b[0m | \u001b[36mrf_classifier.dataset\u001b[0m:\u001b[36mmain\u001b[0m:\u001b[36m42\u001b[0m - \u001b[1mMeio do processo alcançado...\u001b[0m\n",
      "\u001b[32m2025-10-06 21:22:16.984\u001b[0m | \u001b[32m\u001b[1mSUCCESS \u001b[0m | \u001b[36mrf_classifier.dataset\u001b[0m:\u001b[36mmain\u001b[0m:\u001b[36m46\u001b[0m - \u001b[32m\u001b[1mDataset salvo em C:\\Users\\leona\\Documents\\dev\\mesc-ia-codes\\MESC-IA-Projetos-de-IA\\basic_01_credit_approval_random_forest_ccds\\basic_01_rf_classifier\\data\\processed\\dataset.csv\u001b[0m\n",
      "Colunas do dataset: ['A1', 'A2', 'A3', 'A4', 'A5', 'A6', 'A7', 'A8', 'A9', 'A10', 'A11', 'A12', 'A13', 'A14', 'A15', 'A16']\n",
      "Número de linhas: 690\n"
     ]
    },
    {
     "name": "stderr",
     "output_type": "stream",
     "text": [
      "\n"
     ]
    }
   ],
   "source": [
    "\n",
    "# %% [markdown]\n",
    "# # 2️⃣ Baixar dataset CRX\n",
    "\n",
    "# Baixar dataset e salvar em dataset_path\n",
    "download_dataset_main(\n",
    "    url=\"https://archive.ics.uci.edu/ml/machine-learning-databases/credit-screening/crx.data\",\n",
    "    output_path=dataset_path\n",
    ")\n",
    "\n",
    "# %% [markdown]\n",
    "# # 3️⃣ Ajustar nomes de colunas (CRX dataset)\n",
    "\n",
    "CRX_COLUMNS = [\n",
    "    \"A1\",\"A2\",\"A3\",\"A4\",\"A5\",\"A6\",\"A7\",\"A8\",\"A9\",\"A10\",\n",
    "    \"A11\",\"A12\",\"A13\",\"A14\",\"A15\",\"A16\"\n",
    "]\n",
    "\n",
    "# Ler CSV sem header e atribuir nomes corretos\n",
    "df = pd.read_csv(dataset_path, header=None, names=CRX_COLUMNS, na_values='?')\n",
    "\n",
    "# Salvar novamente com cabeçalhos corretos\n",
    "df.to_csv(dataset_path, index=False)\n",
    "\n",
    "# Validar\n",
    "print(\"Colunas do dataset:\", df.columns.tolist())\n",
    "print(\"Número de linhas:\", len(df))\n"
   ]
  },
  {
   "cell_type": "code",
   "execution_count": 10,
   "id": "7538f149",
   "metadata": {},
   "outputs": [
    {
     "data": {
      "application/vnd.microsoft.datawrangler.viewer.v0+json": {
       "columns": [
        {
         "name": "index",
         "rawType": "int64",
         "type": "integer"
        },
        {
         "name": "A1",
         "rawType": "object",
         "type": "string"
        },
        {
         "name": "A2",
         "rawType": "float64",
         "type": "float"
        },
        {
         "name": "A3",
         "rawType": "float64",
         "type": "float"
        },
        {
         "name": "A4",
         "rawType": "object",
         "type": "string"
        },
        {
         "name": "A5",
         "rawType": "object",
         "type": "string"
        },
        {
         "name": "A6",
         "rawType": "object",
         "type": "string"
        },
        {
         "name": "A7",
         "rawType": "object",
         "type": "string"
        },
        {
         "name": "A8",
         "rawType": "float64",
         "type": "float"
        },
        {
         "name": "A9",
         "rawType": "object",
         "type": "string"
        },
        {
         "name": "A10",
         "rawType": "object",
         "type": "string"
        },
        {
         "name": "A11",
         "rawType": "int64",
         "type": "integer"
        },
        {
         "name": "A12",
         "rawType": "object",
         "type": "string"
        },
        {
         "name": "A13",
         "rawType": "object",
         "type": "string"
        },
        {
         "name": "A14",
         "rawType": "float64",
         "type": "float"
        },
        {
         "name": "A15",
         "rawType": "float64",
         "type": "float"
        },
        {
         "name": "A16",
         "rawType": "object",
         "type": "string"
        }
       ],
       "ref": "6da18a3d-cd5e-4fbf-88a0-168707c9950c",
       "rows": [
        [
         "0",
         "b",
         "30.83",
         "0.0",
         "u",
         "g",
         "w",
         "v",
         "1.25",
         "t",
         "t.1",
         "1",
         "f",
         "g.1",
         "202.0",
         "0.1",
         "+"
        ],
        [
         "1",
         "a",
         "58.67",
         "4.46",
         "u",
         "g",
         "q",
         "h",
         "3.04",
         "t",
         "t",
         "6",
         "f",
         "g",
         "43.0",
         "560.0",
         "+"
        ],
        [
         "2",
         "a",
         "24.5",
         "0.5",
         "u",
         "g",
         "q",
         "h",
         "1.5",
         "t",
         "f",
         "0",
         "f",
         "g",
         "280.0",
         "824.0",
         "+"
        ],
        [
         "3",
         "b",
         "27.83",
         "1.54",
         "u",
         "g",
         "w",
         "v",
         "3.75",
         "t",
         "t",
         "5",
         "t",
         "g",
         "100.0",
         "3.0",
         "+"
        ],
        [
         "4",
         "b",
         "20.17",
         "5.625",
         "u",
         "g",
         "w",
         "v",
         "1.71",
         "t",
         "f",
         "0",
         "f",
         "s",
         "120.0",
         "0.0",
         "+"
        ]
       ],
       "shape": {
        "columns": 16,
        "rows": 5
       }
      },
      "text/html": [
       "<div>\n",
       "<style scoped>\n",
       "    .dataframe tbody tr th:only-of-type {\n",
       "        vertical-align: middle;\n",
       "    }\n",
       "\n",
       "    .dataframe tbody tr th {\n",
       "        vertical-align: top;\n",
       "    }\n",
       "\n",
       "    .dataframe thead th {\n",
       "        text-align: right;\n",
       "    }\n",
       "</style>\n",
       "<table border=\"1\" class=\"dataframe\">\n",
       "  <thead>\n",
       "    <tr style=\"text-align: right;\">\n",
       "      <th></th>\n",
       "      <th>A1</th>\n",
       "      <th>A2</th>\n",
       "      <th>A3</th>\n",
       "      <th>A4</th>\n",
       "      <th>A5</th>\n",
       "      <th>A6</th>\n",
       "      <th>A7</th>\n",
       "      <th>A8</th>\n",
       "      <th>A9</th>\n",
       "      <th>A10</th>\n",
       "      <th>A11</th>\n",
       "      <th>A12</th>\n",
       "      <th>A13</th>\n",
       "      <th>A14</th>\n",
       "      <th>A15</th>\n",
       "      <th>A16</th>\n",
       "    </tr>\n",
       "  </thead>\n",
       "  <tbody>\n",
       "    <tr>\n",
       "      <th>0</th>\n",
       "      <td>b</td>\n",
       "      <td>30.83</td>\n",
       "      <td>0.000</td>\n",
       "      <td>u</td>\n",
       "      <td>g</td>\n",
       "      <td>w</td>\n",
       "      <td>v</td>\n",
       "      <td>1.25</td>\n",
       "      <td>t</td>\n",
       "      <td>t.1</td>\n",
       "      <td>1</td>\n",
       "      <td>f</td>\n",
       "      <td>g.1</td>\n",
       "      <td>202.0</td>\n",
       "      <td>0.1</td>\n",
       "      <td>+</td>\n",
       "    </tr>\n",
       "    <tr>\n",
       "      <th>1</th>\n",
       "      <td>a</td>\n",
       "      <td>58.67</td>\n",
       "      <td>4.460</td>\n",
       "      <td>u</td>\n",
       "      <td>g</td>\n",
       "      <td>q</td>\n",
       "      <td>h</td>\n",
       "      <td>3.04</td>\n",
       "      <td>t</td>\n",
       "      <td>t</td>\n",
       "      <td>6</td>\n",
       "      <td>f</td>\n",
       "      <td>g</td>\n",
       "      <td>43.0</td>\n",
       "      <td>560.0</td>\n",
       "      <td>+</td>\n",
       "    </tr>\n",
       "    <tr>\n",
       "      <th>2</th>\n",
       "      <td>a</td>\n",
       "      <td>24.50</td>\n",
       "      <td>0.500</td>\n",
       "      <td>u</td>\n",
       "      <td>g</td>\n",
       "      <td>q</td>\n",
       "      <td>h</td>\n",
       "      <td>1.50</td>\n",
       "      <td>t</td>\n",
       "      <td>f</td>\n",
       "      <td>0</td>\n",
       "      <td>f</td>\n",
       "      <td>g</td>\n",
       "      <td>280.0</td>\n",
       "      <td>824.0</td>\n",
       "      <td>+</td>\n",
       "    </tr>\n",
       "    <tr>\n",
       "      <th>3</th>\n",
       "      <td>b</td>\n",
       "      <td>27.83</td>\n",
       "      <td>1.540</td>\n",
       "      <td>u</td>\n",
       "      <td>g</td>\n",
       "      <td>w</td>\n",
       "      <td>v</td>\n",
       "      <td>3.75</td>\n",
       "      <td>t</td>\n",
       "      <td>t</td>\n",
       "      <td>5</td>\n",
       "      <td>t</td>\n",
       "      <td>g</td>\n",
       "      <td>100.0</td>\n",
       "      <td>3.0</td>\n",
       "      <td>+</td>\n",
       "    </tr>\n",
       "    <tr>\n",
       "      <th>4</th>\n",
       "      <td>b</td>\n",
       "      <td>20.17</td>\n",
       "      <td>5.625</td>\n",
       "      <td>u</td>\n",
       "      <td>g</td>\n",
       "      <td>w</td>\n",
       "      <td>v</td>\n",
       "      <td>1.71</td>\n",
       "      <td>t</td>\n",
       "      <td>f</td>\n",
       "      <td>0</td>\n",
       "      <td>f</td>\n",
       "      <td>s</td>\n",
       "      <td>120.0</td>\n",
       "      <td>0.0</td>\n",
       "      <td>+</td>\n",
       "    </tr>\n",
       "  </tbody>\n",
       "</table>\n",
       "</div>"
      ],
      "text/plain": [
       "  A1     A2     A3 A4 A5 A6 A7    A8 A9  A10  A11 A12  A13    A14    A15 A16\n",
       "0  b  30.83  0.000  u  g  w  v  1.25  t  t.1    1   f  g.1  202.0    0.1   +\n",
       "1  a  58.67  4.460  u  g  q  h  3.04  t    t    6   f    g   43.0  560.0   +\n",
       "2  a  24.50  0.500  u  g  q  h  1.50  t    f    0   f    g  280.0  824.0   +\n",
       "3  b  27.83  1.540  u  g  w  v  3.75  t    t    5   t    g  100.0    3.0   +\n",
       "4  b  20.17  5.625  u  g  w  v  1.71  t    f    0   f    s  120.0    0.0   +"
      ]
     },
     "execution_count": 10,
     "metadata": {},
     "output_type": "execute_result"
    }
   ],
   "source": [
    "df.head()"
   ]
  },
  {
   "cell_type": "code",
   "execution_count": 11,
   "id": "26c8af0c",
   "metadata": {},
   "outputs": [
    {
     "name": "stdout",
     "output_type": "stream",
     "text": [
      "\u001b[32m2025-10-06 21:22:17.061\u001b[0m | \u001b[1mINFO    \u001b[0m | \u001b[36mrf_classifier.features\u001b[0m:\u001b[36mmain\u001b[0m:\u001b[36m28\u001b[0m - \u001b[1mCarregando dataset de C:\\Users\\leona\\Documents\\dev\\mesc-ia-codes\\MESC-IA-Projetos-de-IA\\basic_01_credit_approval_random_forest_ccds\\basic_01_rf_classifier\\data\\processed\\dataset.csv...\u001b[0m\n",
      "\u001b[32m2025-10-06 21:22:17.064\u001b[0m | \u001b[1mINFO    \u001b[0m | \u001b[36mrf_classifier.features\u001b[0m:\u001b[36mmain\u001b[0m:\u001b[36m31\u001b[0m - \u001b[1mPré-processando features...\u001b[0m\n",
      "\u001b[32m2025-10-06 21:22:17.089\u001b[0m | \u001b[32m\u001b[1mSUCCESS \u001b[0m | \u001b[36mrf_classifier.features\u001b[0m:\u001b[36mmain\u001b[0m:\u001b[36m38\u001b[0m - \u001b[32m\u001b[1mFeatures salvas em C:\\Users\\leona\\Documents\\dev\\mesc-ia-codes\\MESC-IA-Projetos-de-IA\\basic_01_credit_approval_random_forest_ccds\\basic_01_rf_classifier\\data\\processed\\features.csv\u001b[0m\n"
     ]
    }
   ],
   "source": [
    "\n",
    "# %% [markdown]\n",
    "# # 4️⃣ Pré-processar features usando features.py\n",
    "\n",
    "target_col = \"A16\"\n",
    "\n",
    "preprocess_features_main(\n",
    "    input_path=dataset_path,\n",
    "    output_path=features_path,\n",
    "    target_col=target_col\n",
    ")\n"
   ]
  },
  {
   "cell_type": "code",
   "execution_count": 12,
   "id": "e50cb5a8",
   "metadata": {},
   "outputs": [
    {
     "name": "stdout",
     "output_type": "stream",
     "text": [
      "Shape do dataframe de features: (691, 16)\n",
      "Colunas: ['A1', 'A2', 'A3', 'A4', 'A5', 'A6', 'A7', 'A8', 'A9', 'A10', 'A11', 'A12', 'A13', 'A14', 'A15', 'A16']\n"
     ]
    }
   ],
   "source": [
    "\n",
    "# Carregar features processadas\n",
    "df_features = pd.read_csv(features_path)\n",
    "print(\"Shape do dataframe de features:\", df_features.shape)\n",
    "print(\"Colunas:\", df_features.columns.tolist())\n"
   ]
  },
  {
   "cell_type": "code",
   "execution_count": 13,
   "id": "ded96c24",
   "metadata": {},
   "outputs": [
    {
     "name": "stdout",
     "output_type": "stream",
     "text": [
      "Número de missing values em X: 0\n",
      "Número de missing values em y: 0\n"
     ]
    }
   ],
   "source": [
    "\n",
    "# %% [markdown]\n",
    "# # 5️⃣ Separar features e target\n",
    "\n",
    "X = df_features.drop(columns=[target_col])\n",
    "y = df_features[target_col]\n",
    "\n",
    "# Validar dados\n",
    "print(\"Número de missing values em X:\", X.isna().sum().sum())\n",
    "print(\"Número de missing values em y:\", y.isna().sum())\n"
   ]
  },
  {
   "cell_type": "code",
   "execution_count": 14,
   "id": "41daedf7",
   "metadata": {},
   "outputs": [
    {
     "name": "stdout",
     "output_type": "stream",
     "text": [
      "Accuracy: 0.8633093525179856\n",
      "              precision    recall  f1-score   support\n",
      "\n",
      "           +       0.85      0.87      0.86        67\n",
      "           -       0.87      0.86      0.87        72\n",
      "\n",
      "    accuracy                           0.86       139\n",
      "   macro avg       0.86      0.86      0.86       139\n",
      "weighted avg       0.86      0.86      0.86       139\n",
      "\n"
     ]
    }
   ],
   "source": [
    "\n",
    "# %% [markdown]\n",
    "# # 6️⃣ Treinar modelo RandomForest (exemplo)\n",
    "\n",
    "from sklearn.model_selection import train_test_split\n",
    "from sklearn.ensemble import RandomForestClassifier\n",
    "from sklearn.metrics import accuracy_score, classification_report\n",
    "\n",
    "X_train, X_test, y_train, y_test = train_test_split(X, y, test_size=0.2, random_state=42)\n",
    "\n",
    "# Treinar modelo\n",
    "model = RandomForestClassifier(random_state=42)\n",
    "model.fit(X_train, y_train)\n",
    "\n",
    "# Avaliar no conjunto de teste\n",
    "y_pred = model.predict(X_test)\n",
    "print(\"Accuracy:\", accuracy_score(y_test, y_pred))\n",
    "print(classification_report(y_test, y_pred))\n"
   ]
  }
 ],
 "metadata": {
  "kernelspec": {
   "display_name": "basic-00-mlflow",
   "language": "python",
   "name": "python3"
  },
  "language_info": {
   "codemirror_mode": {
    "name": "ipython",
    "version": 3
   },
   "file_extension": ".py",
   "mimetype": "text/x-python",
   "name": "python",
   "nbconvert_exporter": "python",
   "pygments_lexer": "ipython3",
   "version": "3.11.13"
  }
 },
 "nbformat": 4,
 "nbformat_minor": 5
}
